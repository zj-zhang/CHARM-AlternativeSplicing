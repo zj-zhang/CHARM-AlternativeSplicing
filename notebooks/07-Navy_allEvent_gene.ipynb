{
 "cells": [
  {
   "cell_type": "markdown",
   "metadata": {},
   "source": [
    "# All events analysis\n",
    "\n",
    "Perform the gene-level GSEA analysis, for all types of AS events"
   ]
  },
  {
   "cell_type": "code",
   "execution_count": 1,
   "metadata": {},
   "outputs": [
    {
     "name": "stdout",
     "output_type": "stream",
     "text": [
      "START: 2021-10-24 21:50:49.182622\n",
      "Simons Foundation, Rusty HPC, worker3124\n"
     ]
    }
   ],
   "source": [
    "from datetime import datetime; print(\"START:\", datetime.now())\n",
    "import socket; print(\"Simons Foundation, Rusty HPC,\", socket.gethostname())"
   ]
  },
  {
   "cell_type": "code",
   "execution_count": 2,
   "metadata": {},
   "outputs": [
    {
     "name": "stdout",
     "output_type": "stream",
     "text": [
      "/mnt/ceph/users/zzhang/CHARM-AlternativeSplicing\n"
     ]
    }
   ],
   "source": [
    "%cd /mnt/home/zzhang/ceph/CHARM-AlternativeSplicing\n",
    "%load_ext rpy2.ipython"
   ]
  },
  {
   "cell_type": "markdown",
   "metadata": {},
   "source": [
    "## 1. Read in Data"
   ]
  },
  {
   "cell_type": "code",
   "execution_count": 3,
   "metadata": {},
   "outputs": [
    {
     "name": "stdout",
     "output_type": "stream",
     "text": [
      "navy_utils.py data-V7 ['PC0', 'PC6'] True\n"
     ]
    }
   ],
   "source": [
    "from jemm.meta_loader import MetaLoader\n",
    "from jemm.genomic_annotation import ExonSet\n",
    "from jemm.plots import volcano_plot\n",
    "from jemm.covariate import Contrasts, Covariate\n",
    "from jemm.utils import fdr_bh\n",
    "from collections import Counter\n",
    "import scipy.stats\n",
    "import seaborn as sns\n",
    "import gseapy as gp\n",
    "import os\n",
    "import pandas as pd\n",
    "import numpy as np \n",
    "import matplotlib.pyplot as plt\n",
    "plt.style.use(['science', 'no-latex', 'ieee'])\n",
    "\n",
    "\n",
    "DATA_VER = 'data-V7'\n",
    "PCS_TO_INCL = '0,6'\n",
    "USE_RE = True\n",
    "\n",
    "%run ./notebook/navy_utils.V7.py $DATA_VER $PCS_TO_INCL $USE_RE\n",
    "\n",
    "FIGDIR = \"%s/all_genes_splicing/figs\" % DATA_VER\n",
    "os.makedirs(FIGDIR, exist_ok=True)\n",
    "\n",
    "contrast_cols = ['final@Pre', 'final@First', 'final@Mid', 'final@Post', \n",
    "                 'final@False Negative','final@Immune', \n",
    "                 #'final@Reinfection',\n",
    "                 #'final@Asymptomatic', \n",
    "                 #'final@Exposed', \n",
    "                 #'final@Mild',\n",
    "                 #'final@Moderate'\n",
    "                ]"
   ]
  },
  {
   "cell_type": "code",
   "execution_count": null,
   "metadata": {},
   "outputs": [
    {
     "name": "stdout",
     "output_type": "stream",
     "text": [
      "loading SE..\n",
      "loaded n=(81341, 1444) jct, n=(47847, 1444) txr\n"
     ]
    },
    {
     "name": "stderr",
     "output_type": "stream",
     "text": [
      "/mnt/ceph/users/zzhang/RnaSplicingHub/jemm/jemm/model.py:176: UserWarning: Input covariate matrix has condition number = 39865.375010374875 > 100, indicating the presence of co-linearality; optimization might be unstable.\n",
      "  _ = self._check_covariate_condition()\n",
      "/mnt/home/zzhang/workspace/programs/anaconda3/envs/rna-seq/lib/python3.6/site-packages/scipy/stats/_distn_infrastructure.py:1847: RuntimeWarning: invalid value encountered in greater_equal\n",
      "  cond2 = (x >= np.asarray(_b)) & cond0\n"
     ]
    },
    {
     "name": "stdout",
     "output_type": "stream",
     "text": [
      "loading A5SS..\n",
      "loaded n=(3705, 1176) jct, n=(17687, 1444) txr\n"
     ]
    },
    {
     "name": "stderr",
     "output_type": "stream",
     "text": [
      "/mnt/ceph/users/zzhang/RnaSplicingHub/jemm/jemm/model.py:176: UserWarning: Input covariate matrix has condition number = 39865.375010374875 > 100, indicating the presence of co-linearality; optimization might be unstable.\n",
      "  _ = self._check_covariate_condition()\n",
      "/mnt/home/zzhang/workspace/programs/anaconda3/envs/rna-seq/lib/python3.6/site-packages/scipy/stats/_distn_infrastructure.py:1847: RuntimeWarning: invalid value encountered in greater_equal\n",
      "  cond2 = (x >= np.asarray(_b)) & cond0\n"
     ]
    },
    {
     "name": "stdout",
     "output_type": "stream",
     "text": [
      "loading A3SS..\n"
     ]
    }
   ],
   "source": [
    "metaloader = MetaLoader(covs, joint_data_files, joint_reg_tables,\n",
    "                        jem_type='lmm' if USE_RE else 'lm',\n",
    "                        jem_kwargs={'diff_intercept_by_measure':True,\n",
    "                            'group_varname': 'pid'})"
   ]
  },
  {
   "cell_type": "code",
   "execution_count": null,
   "metadata": {},
   "outputs": [],
   "source": [
    "gene_centric_dict = metaloader.get_gene_centric_dict(\n",
    "    cols=contrast_cols,\n",
    "    fdr_thresh=0.05\n",
    ")"
   ]
  },
  {
   "cell_type": "markdown",
   "metadata": {},
   "source": [
    "## 2. Get GO enrichment for each condition"
   ]
  },
  {
   "cell_type": "code",
   "execution_count": null,
   "metadata": {},
   "outputs": [],
   "source": [
    "gobp_dfs = {}\n",
    "gocc_dfs = {}\n",
    "\n",
    "wd = \"./%s/all_genes_splicing/\" % DATA_VER\n",
    "union_genes = []\n",
    "for cond in contrast_cols:\n",
    "    genes = [g for g in gene_centric_dict if cond in gene_centric_dict[g] if type(g) is str]\n",
    "    union_genes.extend(genes)\n",
    "    print(\"%s: %i\"%(cond, len(genes)))\n",
    "    with open(os.path.join(wd, cond, \"genes.txt\"), 'w') as f:\n",
    "        f.write('\\n'.join(genes))\n",
    "    # GOBP\n",
    "    this_wd = os.path.join(wd, cond, \"GOBP\")\n",
    "    os.makedirs(this_wd, exist_ok=True)\n",
    "    _ = gp.enrichr(gene_list=list(genes), description='pathway', gene_sets='GO_Biological_Process_2018',\n",
    "                   outdir=this_wd,\n",
    "                   format=\"png\",\n",
    "                   cutoff=0.1,\n",
    "                  )\n",
    "    gobp_dfs[cond] = pd.read_table(os.path.join(this_wd, \"GO_Biological_Process_2018.human.enrichr.reports.txt\"))\n",
    "    # GOCC\n",
    "    this_wd = os.path.join(wd, cond, \"GOCC\")\n",
    "    os.makedirs(this_wd, exist_ok=True)\n",
    "    _ = gp.enrichr(gene_list=list(genes), description='pathway', gene_sets='GO_Cellular_Component_2018',\n",
    "                   outdir=this_wd,\n",
    "                   format=\"png\",\n",
    "                   cutoff=0.1,\n",
    "                  )\n",
    "    gocc_dfs[cond] = pd.read_table(os.path.join(this_wd, \"GO_Cellular_Component_2018.human.enrichr.reports.txt\"))\n",
    "\n",
    "union_genes = list(set(union_genes))\n",
    "with open('%s/union_das_genes.txt'%wd, 'w') as f:\n",
    "    f.write('\\n'.join(union_genes))\n",
    "print('union genes=%i' % len(union_genes))"
   ]
  },
  {
   "cell_type": "code",
   "execution_count": null,
   "metadata": {},
   "outputs": [],
   "source": [
    "# UNION GO ENRICHR\n",
    "cond = 'UNION'\n",
    "this_wd = os.path.join(wd, cond, \"GOBP\")\n",
    "os.makedirs(this_wd, exist_ok=True)\n",
    "_ = gp.enrichr(gene_list=list(union_genes), description='pathway', gene_sets='GO_Biological_Process_2018',\n",
    "               outdir=this_wd,\n",
    "               format=\"png\",\n",
    "               cutoff=0.1,\n",
    "              )\n",
    "gobp_dfs[cond] = pd.read_table(os.path.join(this_wd, \"GO_Biological_Process_2018.human.enrichr.reports.txt\"))\n",
    "\n",
    "# GOCC\n",
    "this_wd = os.path.join(wd, cond, \"GOCC\")\n",
    "os.makedirs(this_wd, exist_ok=True)\n",
    "_ = gp.enrichr(gene_list=list(union_genes), description='pathway', gene_sets='GO_Cellular_Component_2018',\n",
    "               outdir=this_wd,\n",
    "               format=\"png\",\n",
    "               cutoff=0.1,\n",
    "              )\n",
    "gocc_dfs[cond] = pd.read_table(os.path.join(this_wd, \"GO_Cellular_Component_2018.human.enrichr.reports.txt\"))"
   ]
  },
  {
   "cell_type": "code",
   "execution_count": null,
   "metadata": {},
   "outputs": [],
   "source": [
    "(gobp_dfs['UNION']['Adjusted P-value'] < 0.05).sum()"
   ]
  },
  {
   "cell_type": "code",
   "execution_count": null,
   "metadata": {},
   "outputs": [],
   "source": [
    "# Plot the number of genes with *any* DAS along the disease progression\n",
    "cond_to_das_genes = {}\n",
    "for cond in contrast_cols:\n",
    "    genes = [g for g in gene_centric_dict if cond in gene_centric_dict[g]]\n",
    "    cond_to_das_genes[cond] = len(genes)\n",
    "\n",
    "cond_to_das_genes = pd.Series(cond_to_das_genes, index=contrast_cols)\n",
    "cond_to_das_genes.loc[\n",
    "    ['final@Pre',\n",
    "     'final@First',\n",
    "     'final@Mid',\n",
    "     'final@Post'\n",
    "    ]\n",
    "].plot(kind='bar')\n",
    "plt.savefig('%s/01-num_das_genes.pdf' % FIGDIR)"
   ]
  },
  {
   "cell_type": "code",
   "execution_count": null,
   "metadata": {},
   "outputs": [],
   "source": [
    "# write GO for ReviGO server\n",
    "import re\n",
    "def write_revigo(df, fp, fdr_cutoff=0.01):\n",
    "    subdf = df.loc[df[\"Adjusted P-value\"] < fdr_cutoff, ['Term', 'Adjusted P-value']].copy()\n",
    "    subdf['Term'] = [x.split()[-1].strip('()') for x in subdf['Term']]\n",
    "    subdf = subdf.sort_values('Adjusted P-value', ascending=True)\n",
    "    subdf.to_csv(fp, sep=\"\\t\", index=False)\n",
    "    return subdf\n",
    "    \n",
    "k = 'final@First'\n",
    "df = gobp_dfs[k]\n",
    "df = write_revigo(df, fp='./%s/all_genes_splicing/final@First/for_revigo.fdr0.05.txt' % DATA_VER, fdr_cutoff=0.05)\n",
    "df = write_revigo(df, fp='./%s/all_genes_splicing/final@First/for_revigo.fdr0.01.txt' % DATA_VER, fdr_cutoff=0.01)"
   ]
  },
  {
   "cell_type": "code",
   "execution_count": null,
   "metadata": {},
   "outputs": [],
   "source": [
    "k = 'final@Mid'\n",
    "df = gobp_dfs[k]\n",
    "df = write_revigo(df, fp='./%s/all_genes_splicing/final@Mid/for_revigo.fdr0.05.txt' % DATA_VER, fdr_cutoff=0.05)\n",
    "df = write_revigo(df, fp='./%s/all_genes_splicing/final@Mid/for_revigo.fdr0.01.txt' % DATA_VER, fdr_cutoff=0.01)"
   ]
  },
  {
   "cell_type": "code",
   "execution_count": null,
   "metadata": {},
   "outputs": [],
   "source": [
    "k = 'UNION'\n",
    "df = gobp_dfs[k]\n",
    "df = write_revigo(df, fp='./%s/all_genes_splicing/UNION/for_revigo.fdr0.05.txt' % DATA_VER, fdr_cutoff=0.05)\n",
    "df = write_revigo(df, fp='./%s/all_genes_splicing/UNION/for_revigo.fdr0.01.txt' % DATA_VER, fdr_cutoff=0.01)"
   ]
  },
  {
   "cell_type": "markdown",
   "metadata": {},
   "source": [
    "## 3. Temporary change of GO terms "
   ]
  },
  {
   "cell_type": "code",
   "execution_count": null,
   "metadata": {},
   "outputs": [],
   "source": [
    "union_df = gobp_dfs['UNION']\n",
    "union_df = union_df.loc[union_df['Adjusted P-value']<0.9]\n",
    "total_union_go_terms = [x for x in union_df['Term']]"
   ]
  },
  {
   "cell_type": "code",
   "execution_count": null,
   "metadata": {},
   "outputs": [],
   "source": [
    "gobp_dfs.keys()"
   ]
  },
  {
   "cell_type": "code",
   "execution_count": null,
   "metadata": {},
   "outputs": [],
   "source": [
    "temporal_conds = ['final@Pre', 'final@First', 'final@Mid', 'final@Post']\n",
    "union_go = np.zeros((len(total_union_go_terms), len(temporal_conds)))\n",
    "\n",
    "def compute_overlap(s):\n",
    "    ol, tot = s.split('/')\n",
    "    ol = float(ol)\n",
    "    tot = float(tot)\n",
    "    p = ol / tot * 100\n",
    "    std = np.sqrt(p * (1-p) / tot)\n",
    "    return p, std\n",
    "\n",
    "for i, cond in enumerate(temporal_conds):\n",
    "    foo = gobp_dfs[cond].copy()\n",
    "    foo.index = foo['Term']\n",
    "    union_go[:, i] = [compute_overlap(foo.loc[k, 'Overlap'])[0] if k in foo.index else 0 for k in total_union_go_terms]\n",
    "\n",
    "union_go_df = pd.DataFrame(union_go, index=total_union_go_terms, columns=[x.split('@')[1] for x in temporal_conds])"
   ]
  },
  {
   "cell_type": "code",
   "execution_count": null,
   "metadata": {},
   "outputs": [],
   "source": [
    "union_go_df = union_go_df.replace(0, np.nan)"
   ]
  },
  {
   "cell_type": "code",
   "execution_count": null,
   "metadata": {},
   "outputs": [],
   "source": [
    "target_go = [\n",
    "    'neutrophil degranulation (GO:0043312)',\n",
    "    'SRP-dependent cotranslational protein targeting to membrane (GO:0006614)',\n",
    "    'regulation of alternative mRNA splicing, via spliceosome (GO:0000381)',\n",
    "    'viral process (GO:0016032)',\n",
    "    #'intracellular protein transport (GO:0006886)',\n",
    "    #'mRNA processing (GO:0006397)',\n",
    "    #'ribonucleoprotein complex assembly (GO:0022618)',\n",
    "    #'androgen receptor signaling pathway (GO:0030521)',\n",
    "    #'intracellular estrogen receptor signaling pathway (GO:0030520)',\n",
    "    #'positive regulation of type I interferon production (GO:0032481)',\n",
    "    #'RNA secondary structure unwinding (GO:0010501)',\n",
    "    #'glycolipid biosynthetic process (GO:0009247)'\n",
    "    #'protein targeting to vacuole (GO:0006623)'\n",
    "    #'antigen processing and presentation of exogenous peptide antigen (GO:0002478)',\n",
    "]\n",
    "\n",
    "fig, ax = plt.subplots(1, 1, figsize=(4, 4))\n",
    "union_go_df.loc[target_go].transpose().plot(ax=ax, marker='o')\n",
    "ax.legend(bbox_to_anchor=(-0.15, 0.75), loc='upper right')\n",
    "ax.set_ylabel('% of GO Term genes with DAS')\n",
    "fig.savefig('%s/02-GO_temp_changes.pdf' % FIGDIR)"
   ]
  },
  {
   "cell_type": "code",
   "execution_count": null,
   "metadata": {},
   "outputs": [],
   "source": [
    "# export genes with DAS on AS regulation\n",
    "first_sf_gen = gobp_dfs['final@First'].query('Term==\"regulation of alternative mRNA splicing, via spliceosome (GO:0000381)\"').Genes.to_list()[0].split(';')\n",
    "mid_sf_gen = gobp_dfs['final@Mid'].query('Term==\"regulation of alternative mRNA splicing, via spliceosome (GO:0000381)\"').Genes.to_list()[0].split(';')\n",
    "sf_gen = list(set(first_sf_gen + mid_sf_gen))"
   ]
  },
  {
   "cell_type": "code",
   "execution_count": null,
   "metadata": {},
   "outputs": [],
   "source": [
    "sf_gen_df = pd.DataFrame(columns=['event_id', 'event_type', 'gene', 'condition', 'base_psi', 'delta_psi'])\n",
    "for gen in sf_gen:\n",
    "    for cond in gene_centric_dict[gen]:\n",
    "        for evt in gene_centric_dict[gen][cond]:\n",
    "            this = {'event_id': evt.event_id, \n",
    "                    'event_type': evt.event_type,\n",
    "                    'gene': gen,\n",
    "                    'condition': cond,\n",
    "                    'base_psi': evt._base_psi,\n",
    "                    'delta_psi': evt._delta_psi\n",
    "                   }\n",
    "            sf_gen_df = sf_gen_df.append(this, ignore_index=True)"
   ]
  },
  {
   "cell_type": "code",
   "execution_count": null,
   "metadata": {},
   "outputs": [],
   "source": [
    "sf_gen_df.sort_values('condition').to_csv('%s/all_genes_splicing/SplicingFactor_DAS.tsv' % DATA_VER, index=False, sep=\"\\t\")\n",
    "sf_gen_df.sort_values('condition')"
   ]
  },
  {
   "cell_type": "markdown",
   "metadata": {},
   "source": [
    "## 4. Enrichment of CLIP and Pfam annotations"
   ]
  },
  {
   "cell_type": "markdown",
   "metadata": {},
   "source": [
    "## 4.1 CLIP"
   ]
  },
  {
   "cell_type": "code",
   "execution_count": null,
   "metadata": {},
   "outputs": [],
   "source": [
    "das_eids = {\n",
    "    as_type: [eid for eid in metaloader.data[as_type].stats_tests if \\\n",
    "              (metaloader.data[as_type].stats_tests[eid].loc[contrast_cols, 'qvals']<0.05).sum() > 0]\n",
    "    for as_type in ('A5SS', 'A3SS', 'RI', 'SE')\n",
    "}"
   ]
  },
  {
   "cell_type": "code",
   "execution_count": null,
   "metadata": {},
   "outputs": [],
   "source": [
    "def plot_volcano(das_eids, ax=None):\n",
    "    clip_test = ExonSet.enrichment_test(das_eids, metaloader, 'rbp_clip')\n",
    "    # only look at ENCODE IDR peaks (?)\n",
    "    clip_test = clip_test.loc[[i for i in clip_test.index if clip_test.loc[i, 'items'].endswith('IDR')]]\n",
    "    # vocalno plot\n",
    "    clip_test['log2_ratios'] = np.log2(clip_test['ratios'])\n",
    "    clip_test['neglog10_pvals'] = -np.log10(clip_test['pvals'])\n",
    "    clip_test = clip_test.replace([-np.inf, np.inf], np.nan).dropna(axis=0)\n",
    "    tot_fg = sum([len(das_eids[x]) for x in das_eids])\n",
    "    #print('total foreground = %i' % tot_fg)\n",
    "    #clip_test = clip_test.query('observed > %f' % (tot_fg*0.01))\n",
    "    clip_test = clip_test.query('observed > 50')\n",
    "    clip_test['fdr'] = fdr_bh(clip_test['pvals'])\n",
    "    clip_test['labels'] = ''\n",
    "    clip_test.at[clip_test.query('fdr<0.05').sort_values('fdr', ascending=True).head(3).index, 'labels'] = \\\n",
    "        clip_test['items'].apply(lambda x: x.split('_')[0])\n",
    "    clip_test.at[clip_test.query('fdr<0.05 and ratios>2').sort_values('fdr', ascending=True).head(3).index, 'labels'] = \\\n",
    "        clip_test['items'].apply(lambda x: x.split('_')[0])\n",
    "    ax = volcano_plot(\n",
    "        x='log2_ratios', \n",
    "        y='neglog10_pvals', \n",
    "        xcut=1,\n",
    "        ycut=clip_test.query('fdr<0.05').sort_values('neglog10_pvals', ascending=True)['neglog10_pvals'].iloc[0],\n",
    "        labels='labels', \n",
    "        data=clip_test,\n",
    "        ax=ax\n",
    "    )\n",
    "    ax.set_xlabel('log2(Ratio)')\n",
    "    ax.set_ylabel('log10(Pvalue)')\n",
    "    return clip_test, ax"
   ]
  },
  {
   "cell_type": "code",
   "execution_count": null,
   "metadata": {},
   "outputs": [],
   "source": [
    "clip_test, ax = plot_volcano(das_eids)\n",
    "plt.savefig('%s/03-clip_test.pdf'% FIGDIR)\n",
    "plt.show()"
   ]
  },
  {
   "cell_type": "code",
   "execution_count": null,
   "metadata": {},
   "outputs": [],
   "source": [
    "clip_test.query('fdr < 0.05 and ratios>=2').sort_values('fdr', ascending=True)"
   ]
  },
  {
   "cell_type": "markdown",
   "metadata": {},
   "source": [
    "## 4.2 Pfam"
   ]
  },
  {
   "cell_type": "code",
   "execution_count": null,
   "metadata": {},
   "outputs": [],
   "source": [
    "pfam_test = ExonSet.enrichment_test(das_eids, metaloader, 'pfam_domain')\n",
    "pfam_test = pfam_test.query('observed > 5')"
   ]
  },
  {
   "cell_type": "code",
   "execution_count": null,
   "metadata": {},
   "outputs": [],
   "source": [
    "# vocalno plot\n",
    "pfam_test['log2_ratios'] = np.log2(pfam_test['ratios'])\n",
    "pfam_test['neglog10_pvals'] = -np.log10(pfam_test['pvals'])\n",
    "pfam_test['fdr'] = fdr_bh(pfam_test['pvals'])\n",
    "pfam_test['labels'] = ''\n",
    "pfam_test.at[pfam_test.query('fdr<0.05').sort_values('fdr', ascending=True).head(6).index, 'labels'] = \\\n",
    "    pfam_test['items']\n",
    "ax = volcano_plot(\n",
    "    x='log2_ratios', \n",
    "    y='neglog10_pvals', \n",
    "    xcut=1,\n",
    "    ycut=pfam_test.query('fdr<0.05').sort_values('neglog10_pvals', ascending=True)['neglog10_pvals'].iloc[0],\n",
    "    labels='labels', \n",
    "    data=pfam_test)\n",
    "ax.set_xlabel('log2(Ratio)')\n",
    "ax.set_ylabel('log10(Pvalue)')\n",
    "plt.savefig('%s/03-pfam_test.pdf'% FIGDIR)"
   ]
  },
  {
   "cell_type": "code",
   "execution_count": null,
   "metadata": {},
   "outputs": [],
   "source": [
    "pfam_test.query('fdr<0.05').sort_values('fdr', ascending=True)"
   ]
  },
  {
   "cell_type": "code",
   "execution_count": null,
   "metadata": {},
   "outputs": [],
   "source": [
    "print(\"FINISH:\", datetime.now())"
   ]
  },
  {
   "cell_type": "code",
   "execution_count": null,
   "metadata": {},
   "outputs": [],
   "source": []
  }
 ],
 "metadata": {
  "kernelspec": {
   "display_name": "Python 3",
   "language": "python",
   "name": "python3"
  },
  "language_info": {
   "codemirror_mode": {
    "name": "ipython",
    "version": 3
   },
   "file_extension": ".py",
   "mimetype": "text/x-python",
   "name": "python",
   "nbconvert_exporter": "python",
   "pygments_lexer": "ipython3",
   "version": "3.6.10"
  }
 },
 "nbformat": 4,
 "nbformat_minor": 4
}
